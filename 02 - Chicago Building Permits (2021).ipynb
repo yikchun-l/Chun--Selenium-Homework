{
 "cells": [
  {
   "cell_type": "markdown",
   "metadata": {},
   "source": [
    "## Logging on\n",
    "\n",
    "Use Selenium to visit https://webapps1.chicago.gov/buildingrecords/ and accept the agreement.\n",
    "\n",
    "> Think about when you use `.find_element...` and when you use `.find_elementSSS...`"
   ]
  },
  {
   "cell_type": "code",
   "execution_count": 1,
   "metadata": {},
   "outputs": [
    {
     "name": "stderr",
     "output_type": "stream",
     "text": [
      "/Users/yikchunlam/.pyenv/versions/3.10.3/lib/python3.10/site-packages/requests/__init__.py:109: RequestsDependencyWarning: urllib3 (1.26.9) or chardet (5.0.0)/charset_normalizer (2.0.12) doesn't match a supported version!\n",
      "  warnings.warn(\n"
     ]
    }
   ],
   "source": [
    "from selenium import webdriver\n",
    "from selenium.webdriver.common.by import By\n",
    "from webdriver_manager.firefox import GeckoDriverManager"
   ]
  },
  {
   "cell_type": "code",
   "execution_count": 2,
   "metadata": {},
   "outputs": [
    {
     "name": "stdout",
     "output_type": "stream",
     "text": [
      "\n"
     ]
    },
    {
     "name": "stderr",
     "output_type": "stream",
     "text": [
      "/var/folders/86/xmjq1vh10t59mm3v94bs4l_r0000gn/T/ipykernel_92029/3328504527.py:1: DeprecationWarning: executable_path has been deprecated, please pass in a Service object\n",
      "  driver = webdriver.Firefox(executable_path=GeckoDriverManager().install())\n"
     ]
    }
   ],
   "source": [
    "driver = webdriver.Firefox(executable_path=GeckoDriverManager().install())"
   ]
  },
  {
   "cell_type": "code",
   "execution_count": 3,
   "metadata": {},
   "outputs": [],
   "source": [
    "driver.get('https://webapps1.chicago.gov/buildingrecords/')"
   ]
  },
  {
   "cell_type": "code",
   "execution_count": 8,
   "metadata": {},
   "outputs": [],
   "source": [
    "driver.find_element(By.ID, 'rbnAgreement1').click()"
   ]
  },
  {
   "cell_type": "code",
   "execution_count": 9,
   "metadata": {},
   "outputs": [],
   "source": [
    "driver.find_element(By.XPATH, '//*[@id=\"submit\"]').click()"
   ]
  },
  {
   "cell_type": "code",
   "execution_count": null,
   "metadata": {},
   "outputs": [],
   "source": []
  },
  {
   "cell_type": "markdown",
   "metadata": {},
   "source": [
    "## Searching\n",
    "\n",
    "Search for **400 E 41ST ST**."
   ]
  },
  {
   "cell_type": "code",
   "execution_count": 11,
   "metadata": {},
   "outputs": [],
   "source": [
    "driver.find_element(By.ID, 'fullAddress').send_keys('400 E 41ST ST')"
   ]
  },
  {
   "cell_type": "code",
   "execution_count": 12,
   "metadata": {},
   "outputs": [],
   "source": [
    "driver.find_element(By.ID, 'submit').click()"
   ]
  },
  {
   "cell_type": "markdown",
   "metadata": {},
   "source": [
    "## Saving tables with pandas\n",
    "\n",
    "Use pandas to save a CSV of all **permits** to `Permits - 400 E 41ST ST.csv`. Note that there are **different sections of the page**, not just one long permits table.\n",
    "\n",
    "> - *Tip: When using `.read_html`, try using `flavor='lxml'` and comparing the results to `flavor='html5lib'`. Which works better?*\n",
    "> - *Tip: You might need to install `html5lib` using `pip`. If so, you'll need to restart the notebook using **Kernel > Restart** before it will work.*"
   ]
  },
  {
   "cell_type": "code",
   "execution_count": 13,
   "metadata": {},
   "outputs": [],
   "source": [
    "import pandas as pd"
   ]
  },
  {
   "cell_type": "code",
   "execution_count": 21,
   "metadata": {},
   "outputs": [],
   "source": [
    "permits = pd.read_html(driver.page_source, flavor='html5lib')"
   ]
  },
  {
   "cell_type": "code",
   "execution_count": 30,
   "metadata": {},
   "outputs": [],
   "source": [
    "permits[0].to_csv('Permits - 400 E 41ST ST.csv', index= False)"
   ]
  },
  {
   "cell_type": "markdown",
   "metadata": {},
   "source": [
    "## Saving tables the long way\n",
    "\n",
    "Save a CSV of all DOB inspections to `Inspections - 400 E 41ST ST.csv`.\n",
    "\n",
    "This is more complicated than the last one becuse **we also need to save the URL to the inspection** (see how the inspection number is a link?). As a result, you won't be able to use pandas! Instead, you'll need to use a loop and create a list of dictionaries.\n",
    "\n",
    "You can use Selenium or you can feed the source to BeautifulSoup. You should have approximately 160 rows.\n",
    "\n",
    "You'll probably need to find the table first, then the rows inside, then the cells inside of each row. You'll probably use lots of list indexing. I might recommend XPath for finding the table.\n",
    "\n",
    "*Tip: If you get a \"list index out of range\" error, it's probably due to an issue involving `thead` vs `tbody` elements. What are they? What are they for? What's in them? There are a few ways to troubleshoot it.*"
   ]
  },
  {
   "cell_type": "code",
   "execution_count": 66,
   "metadata": {},
   "outputs": [
    {
     "data": {
      "text/html": [
       "<div>\n",
       "<style scoped>\n",
       "    .dataframe tbody tr th:only-of-type {\n",
       "        vertical-align: middle;\n",
       "    }\n",
       "\n",
       "    .dataframe tbody tr th {\n",
       "        vertical-align: top;\n",
       "    }\n",
       "\n",
       "    .dataframe thead th {\n",
       "        text-align: right;\n",
       "    }\n",
       "</style>\n",
       "<table border=\"1\" class=\"dataframe\">\n",
       "  <thead>\n",
       "    <tr style=\"text-align: right;\">\n",
       "      <th></th>\n",
       "      <th>INSP #</th>\n",
       "      <th>INSPECTION DATE</th>\n",
       "      <th>STATUS</th>\n",
       "      <th>TYPE DESCRIPTION</th>\n",
       "      <th>links</th>\n",
       "    </tr>\n",
       "  </thead>\n",
       "  <tbody>\n",
       "    <tr>\n",
       "      <th>0</th>\n",
       "      <td>13821288</td>\n",
       "      <td>05/16/2022</td>\n",
       "      <td>PASSED</td>\n",
       "      <td>PERMIT INSPECTION</td>\n",
       "      <td>https://webapps1.chicago.gov/buildingrecords/i...</td>\n",
       "    </tr>\n",
       "    <tr>\n",
       "      <th>1</th>\n",
       "      <td>13813188</td>\n",
       "      <td>05/16/2022</td>\n",
       "      <td>PASSED</td>\n",
       "      <td>ANNUAL INSPECTION</td>\n",
       "      <td>https://webapps1.chicago.gov/buildingrecords/i...</td>\n",
       "    </tr>\n",
       "    <tr>\n",
       "      <th>2</th>\n",
       "      <td>13808208</td>\n",
       "      <td>05/13/2022</td>\n",
       "      <td>FAILED</td>\n",
       "      <td>PERMIT INSPECTION</td>\n",
       "      <td>https://webapps1.chicago.gov/buildingrecords/i...</td>\n",
       "    </tr>\n",
       "    <tr>\n",
       "      <th>3</th>\n",
       "      <td>13748085</td>\n",
       "      <td>04/25/2022</td>\n",
       "      <td>FAILED</td>\n",
       "      <td>ANNUAL INSPECTION</td>\n",
       "      <td>https://webapps1.chicago.gov/buildingrecords/i...</td>\n",
       "    </tr>\n",
       "    <tr>\n",
       "      <th>4</th>\n",
       "      <td>13684797</td>\n",
       "      <td>03/21/2022</td>\n",
       "      <td>FAILED</td>\n",
       "      <td>ANNUAL INSPECTION</td>\n",
       "      <td>https://webapps1.chicago.gov/buildingrecords/i...</td>\n",
       "    </tr>\n",
       "    <tr>\n",
       "      <th>...</th>\n",
       "      <td>...</td>\n",
       "      <td>...</td>\n",
       "      <td>...</td>\n",
       "      <td>...</td>\n",
       "      <td>...</td>\n",
       "    </tr>\n",
       "    <tr>\n",
       "      <th>162</th>\n",
       "      <td>25836</td>\n",
       "      <td>07/09/2001</td>\n",
       "      <td>PASSED</td>\n",
       "      <td>SIGN ANNUAL INSPECTION</td>\n",
       "      <td>https://webapps1.chicago.gov/buildingrecords/i...</td>\n",
       "    </tr>\n",
       "    <tr>\n",
       "      <th>163</th>\n",
       "      <td>130126</td>\n",
       "      <td>05/09/1997</td>\n",
       "      <td>CLOSED</td>\n",
       "      <td>FIRE PREVENTION PUMPS LEGACY</td>\n",
       "      <td>https://webapps1.chicago.gov/buildingrecords/i...</td>\n",
       "    </tr>\n",
       "    <tr>\n",
       "      <th>164</th>\n",
       "      <td>9475223</td>\n",
       "      <td>01/28/1997</td>\n",
       "      <td>CLOSED</td>\n",
       "      <td>ELEVATOR LEGACY INSPECTION</td>\n",
       "      <td>https://webapps1.chicago.gov/buildingrecords/i...</td>\n",
       "    </tr>\n",
       "    <tr>\n",
       "      <th>165</th>\n",
       "      <td>9457580</td>\n",
       "      <td>01/21/1997</td>\n",
       "      <td>CLOSED</td>\n",
       "      <td>ELEVATOR LEGACY INSPECTION</td>\n",
       "      <td>https://webapps1.chicago.gov/buildingrecords/i...</td>\n",
       "    </tr>\n",
       "    <tr>\n",
       "      <th>166</th>\n",
       "      <td>130125</td>\n",
       "      <td>03/21/1996</td>\n",
       "      <td>CLOSED</td>\n",
       "      <td>FIRE PREVENTION PUMPS LEGACY</td>\n",
       "      <td>https://webapps1.chicago.gov/buildingrecords/i...</td>\n",
       "    </tr>\n",
       "  </tbody>\n",
       "</table>\n",
       "<p>167 rows × 5 columns</p>\n",
       "</div>"
      ],
      "text/plain": [
       "       INSP # INSPECTION DATE  STATUS              TYPE DESCRIPTION  \\\n",
       "0    13821288      05/16/2022  PASSED             PERMIT INSPECTION   \n",
       "1    13813188      05/16/2022  PASSED             ANNUAL INSPECTION   \n",
       "2    13808208      05/13/2022  FAILED             PERMIT INSPECTION   \n",
       "3    13748085      04/25/2022  FAILED             ANNUAL INSPECTION   \n",
       "4    13684797      03/21/2022  FAILED             ANNUAL INSPECTION   \n",
       "..        ...             ...     ...                           ...   \n",
       "162     25836      07/09/2001  PASSED        SIGN ANNUAL INSPECTION   \n",
       "163    130126      05/09/1997  CLOSED  FIRE PREVENTION PUMPS LEGACY   \n",
       "164   9475223      01/28/1997  CLOSED    ELEVATOR LEGACY INSPECTION   \n",
       "165   9457580      01/21/1997  CLOSED    ELEVATOR LEGACY INSPECTION   \n",
       "166    130125      03/21/1996  CLOSED  FIRE PREVENTION PUMPS LEGACY   \n",
       "\n",
       "                                                 links  \n",
       "0    https://webapps1.chicago.gov/buildingrecords/i...  \n",
       "1    https://webapps1.chicago.gov/buildingrecords/i...  \n",
       "2    https://webapps1.chicago.gov/buildingrecords/i...  \n",
       "3    https://webapps1.chicago.gov/buildingrecords/i...  \n",
       "4    https://webapps1.chicago.gov/buildingrecords/i...  \n",
       "..                                                 ...  \n",
       "162  https://webapps1.chicago.gov/buildingrecords/i...  \n",
       "163  https://webapps1.chicago.gov/buildingrecords/i...  \n",
       "164  https://webapps1.chicago.gov/buildingrecords/i...  \n",
       "165  https://webapps1.chicago.gov/buildingrecords/i...  \n",
       "166  https://webapps1.chicago.gov/buildingrecords/i...  \n",
       "\n",
       "[167 rows x 5 columns]"
      ]
     },
     "execution_count": 66,
     "metadata": {},
     "output_type": "execute_result"
    }
   ],
   "source": [
    "dob = permits[2]\n",
    "dob_table = driver.find_element(By.ID, 'resultstable_inspections')\n",
    "\n",
    "inspection_links = []\n",
    "for item in dob_table.find_elements(By.TAG_NAME, 'a'):\n",
    "    link = item.get_attribute('href')\n",
    "    inspection_links.append(link)\n",
    "\n",
    "dob['links'] = inspection_links"
   ]
  },
  {
   "cell_type": "code",
   "execution_count": 67,
   "metadata": {},
   "outputs": [],
   "source": [
    "dob.to_csv('Inspections - 400 E 41ST ST.csv', index= False)"
   ]
  },
  {
   "cell_type": "code",
   "execution_count": null,
   "metadata": {},
   "outputs": [],
   "source": []
  },
  {
   "cell_type": "code",
   "execution_count": null,
   "metadata": {},
   "outputs": [],
   "source": []
  },
  {
   "cell_type": "markdown",
   "metadata": {},
   "source": [
    "### Bonus preview of Wednesday's content\n",
    "\n",
    "**You prrrrrobably shouldn't do this one unless you want a real challenge.**\n",
    "\n",
    "If you click the inspection number, it'll open up a new window that shows you details of the violations from that visit. Count the number of violations for each visit and save it in a new column called **num_violations**.\n",
    "\n",
    "Save this file as `Inspections - 400 E 41ST ST - with counts.csv`.\n",
    "\n",
    "Since clicking the link opens in a new window, we have to say \"Hey Selenium, pay attention to that new window!\" We do that with `driver.switch_to.window(driver.window_handles[-1])` (each window gets a `window_handle`, and we're just asking the driver to switch to the last one.). A rough sketch of what your code will look like is here:\n",
    "\n",
    "```python\n",
    "# Click the link that opens the new window\n",
    "\n",
    "# Switch to the new window/tab\n",
    "driver.switch_to.window(driver.window_handles[-1])\n",
    "\n",
    "# Do your scraping in here\n",
    "\n",
    "# Close the new window/tab\n",
    "driver.close()\n",
    "\n",
    "# Switch back to the original window/tab\n",
    "driver.switch_to.window(driver.window_handles[0])\n",
    "```\n",
    "\n",
    "You'll want to play around with them individually before you try it with the whole set - the ones that pass are very different pages than the ones with violations! There are a few ways to get the number of violations, some easier than others."
   ]
  },
  {
   "cell_type": "code",
   "execution_count": null,
   "metadata": {},
   "outputs": [],
   "source": []
  },
  {
   "cell_type": "code",
   "execution_count": null,
   "metadata": {},
   "outputs": [],
   "source": []
  },
  {
   "cell_type": "code",
   "execution_count": null,
   "metadata": {},
   "outputs": [],
   "source": []
  },
  {
   "cell_type": "code",
   "execution_count": null,
   "metadata": {},
   "outputs": [],
   "source": []
  },
  {
   "cell_type": "code",
   "execution_count": null,
   "metadata": {},
   "outputs": [],
   "source": []
  },
  {
   "cell_type": "code",
   "execution_count": null,
   "metadata": {},
   "outputs": [],
   "source": []
  }
 ],
 "metadata": {
  "kernelspec": {
   "display_name": "Python 3 (ipykernel)",
   "language": "python",
   "name": "python3"
  },
  "language_info": {
   "codemirror_mode": {
    "name": "ipython",
    "version": 3
   },
   "file_extension": ".py",
   "mimetype": "text/x-python",
   "name": "python",
   "nbconvert_exporter": "python",
   "pygments_lexer": "ipython3",
   "version": "3.10.3"
  }
 },
 "nbformat": 4,
 "nbformat_minor": 4
}
