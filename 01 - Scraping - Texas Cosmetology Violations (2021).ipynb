{
 "cells": [
  {
   "cell_type": "markdown",
   "metadata": {},
   "source": [
    "# Texas Cosmetologist Violations\n",
    "\n",
    "Texas has a system for [searching for license violations](https://www.tdlr.texas.gov/cimsfo/fosearch.asp). You're going to search for cosmetologists!"
   ]
  },
  {
   "cell_type": "markdown",
   "metadata": {},
   "source": [
    "## Setup: Import what you'll need to scrape the page\n",
    "\n",
    "We'll be using Selenium for this, *not* BeautifulSoup and requests."
   ]
  },
  {
   "cell_type": "code",
   "execution_count": 1,
   "metadata": {},
   "outputs": [
    {
     "name": "stderr",
     "output_type": "stream",
     "text": [
      "/Users/yikchunlam/.pyenv/versions/3.10.3/lib/python3.10/site-packages/requests/__init__.py:109: RequestsDependencyWarning: urllib3 (1.26.9) or chardet (5.0.0)/charset_normalizer (2.0.12) doesn't match a supported version!\n",
      "  warnings.warn(\n"
     ]
    }
   ],
   "source": [
    "from selenium import webdriver\n",
    "from selenium.webdriver.common.by import By\n",
    "from webdriver_manager.firefox import GeckoDriverManager"
   ]
  },
  {
   "cell_type": "markdown",
   "metadata": {
    "collapsed": true
   },
   "source": [
    "## Starting your search\n",
    "\n",
    "Starting from [here](https://www.tdlr.texas.gov/cimsfo/fosearch.asp), search for cosmetologist violations for people with the last name **Nguyen**."
   ]
  },
  {
   "cell_type": "code",
   "execution_count": 2,
   "metadata": {},
   "outputs": [
    {
     "name": "stdout",
     "output_type": "stream",
     "text": [
      "\n"
     ]
    },
    {
     "name": "stderr",
     "output_type": "stream",
     "text": [
      "/var/folders/86/xmjq1vh10t59mm3v94bs4l_r0000gn/T/ipykernel_76354/3328504527.py:1: DeprecationWarning: executable_path has been deprecated, please pass in a Service object\n",
      "  driver = webdriver.Firefox(executable_path=GeckoDriverManager().install())\n"
     ]
    }
   ],
   "source": [
    "driver = webdriver.Firefox(executable_path=GeckoDriverManager().install())"
   ]
  },
  {
   "cell_type": "code",
   "execution_count": 3,
   "metadata": {},
   "outputs": [],
   "source": [
    "driver.get('https://www.tdlr.texas.gov/cimsfo/fosearch.asp')"
   ]
  },
  {
   "cell_type": "code",
   "execution_count": 6,
   "metadata": {},
   "outputs": [],
   "source": [
    "driver.find_element(By.ID, 'pht_status').click()"
   ]
  },
  {
   "cell_type": "code",
   "execution_count": 7,
   "metadata": {},
   "outputs": [],
   "source": [
    "driver.find_element(By.XPATH, '/html/body/div[1]/div/div[2]/div/div/section/div/div/table/tbody/tr/td/form/table/tbody/tr[3]/td/select/option[10]').click()"
   ]
  },
  {
   "cell_type": "code",
   "execution_count": 8,
   "metadata": {},
   "outputs": [],
   "source": [
    "driver.find_element(By.ID, 'pht_lnm').send_keys('Nguyen')"
   ]
  },
  {
   "cell_type": "code",
   "execution_count": 9,
   "metadata": {},
   "outputs": [],
   "source": [
    "driver.find_element(By.XPATH, '/html/body/div[1]/div/div[2]/div/div/section/div/div/table/tbody/tr/td/form/table/tbody/tr[18]/td/input[1]').click()"
   ]
  },
  {
   "cell_type": "markdown",
   "metadata": {},
   "source": [
    "## Scraping\n",
    "\n",
    "Once you are on the results page, do this. **I step you through things bit by bit, so it's going to be a little different than we did in class.** Also, no `pd.read_html` allowed because this isn't actual tabular data!\n",
    "\n",
    "> You can use either Selenium by itself or Selenium+BeautifulSoup to scrape the results page. The choice is up to you!"
   ]
  },
  {
   "cell_type": "markdown",
   "metadata": {},
   "source": [
    "### Loop through each result and print the entire row\n",
    "\n",
    "Okay wait, maybe not, i's a heck of a lot of rows. Use `[:10]` to only do the first ten! For example, if you saved the table rows into `results` you might do something like this:\n",
    "\n",
    "```python\n",
    "for result in results[:10]:\n",
    "    print(result)\n",
    "```\n",
    "\n",
    "Although you'd want to print out the text from the row (I give example output below).\n",
    "\n",
    "> *Tip: If you're using Selenium, `By.TAG_NAME` is used if you don't have a class or ID. If you're using BeautifulSoup, just do your normal thing.*"
   ]
  },
  {
   "cell_type": "code",
   "execution_count": 22,
   "metadata": {},
   "outputs": [],
   "source": [
    "rows = driver.find_elements(By.TAG_NAME, 'tr')"
   ]
  },
  {
   "cell_type": "code",
   "execution_count": 27,
   "metadata": {},
   "outputs": [
    {
     "name": "stdout",
     "output_type": "stream",
     "text": [
      "-----\n",
      "NGUYEN, MAI T\n",
      "City: AUSTIN\n",
      "County: TRAVIS\n",
      "Zip Code: 78717\n",
      "\n",
      "\n",
      "License #: 750076\n",
      "\n",
      "Complaint # COS20220000853\n",
      "Date: 7/7/2022\n",
      "\n",
      "Respondent is assessed an administrative penalty in the amount of $7,500.\n",
      "Respondent failed to clean, disinfect, and sterilize metal instruments with a Department-approved sterilizer in accordance with the sterilizer or sanitizers manufacturer's instructions; Respondent failed to keep a record of the date and time of each foot spa daily or bi-weekly cleaning and if the foot spa was not used, the Department is charging 3 violations; Respondent failed to follow whirlpool foot spas cleaning and sanitization procedures as required, the Department is charging 3 violations; Respondent failed to clean and disinfect all wax pots; Respondent failed to clean diamond, carbide, natural and metal bits after each use with a brush or ultrasonic cleaner, or by immersing in acetone.\n",
      "-----\n",
      "NGUYEN, HUNG VU\n",
      "City: HOUSTON\n",
      "County: HARRIS\n",
      "Zip Code: 77086\n",
      "\n",
      "\n",
      "License #: 763912\n",
      "\n",
      "Complaint # COS20200013887\n",
      "Date: 7/6/2022\n",
      "\n",
      "Respondent is assessed an administrative penalty in the amount of $3,000.\n",
      "Respondent failed to keep floors, walls, ceilings, shelves, furniture, furnishings, and fixtures clean and in good repair; Respondent failed to clean and disinfect multiple use implements after each customer; Respondent failed to keep a record of the date and time of each foot spa daily or bi-weekly cleaning and if the foot spa was not used, the Department is charging 2 violations; Respondent failed to clean, disinfect, and sterilize manicure and pedicure implements after each use, the Department is charging 2 violations; Respondent failed to disinfect tools, implements, and supplies with an EPA-registered disinfectant solution; Respondent failed to keep all products properly labeled in compliance with OSHA requirements.\n",
      "-----\n",
      "NGUYEN, MINH HIEN LUONG\n",
      "City: CARROLLTON\n",
      "County: DALLAS\n",
      "Zip Code: 75007\n",
      "\n",
      "\n",
      "License #: 777932\n",
      "\n",
      "Complaint # COS20210010437\n",
      "Date: 6/27/2022\n",
      "\n",
      "Respondent is assessed an administrative penalty in the amount of $500.\n",
      "Respondent failed to clean and sanitize whirlpool foot spas as required at the end of each day.\n",
      "-----\n",
      "NGUYEN, PHUONG T\n",
      "City: PLANO\n",
      "County: COLLIN\n",
      "Zip Code: 75023\n",
      "\n",
      "\n",
      "License #: 766293\n",
      "\n",
      "Complaint # COS20210014779\n",
      "Date: 6/16/2022\n",
      "\n",
      "Respondent is assessed an administrative penalty in the amount of $6,800.\n",
      "Respondent failed to keep a record of the date and time of each foot spa daily or bi-weekly cleaning and if the foot spa was not used, the Department is charging 9 violations; Respondent failed to clean and disinfect all wax pots; Respondent failed to utilize clean and disinfected implements; Respondent failed to clean and disinfect manicure tables prior to use for each client; Respondent failed to discard buffer blocks and porous nail files when exposed to a client's broken skin and/or unhealthy nails.\n",
      "-----\n",
      "NGUYEN, STEVEN MANH\n",
      "City: FORT WORTH\n",
      "County: TARRANT\n",
      "Zip Code: 76244\n",
      "\n",
      "\n",
      "License #: 773318\n",
      "\n",
      "Complaint # COS20200015190\n",
      "Date: 6/9/2022\n",
      "\n",
      "Respondent is assessed an administrative penalty in the amount of $1,000.\n",
      "Respondent leased space in a salon to an individual who engaged in the practice of cosmetology but had not obtained a cosmetology license.\n",
      "-----\n",
      "NGUYEN, LANG THU\n",
      "City: ALLEN\n",
      "County: COLLIN\n",
      "Zip Code: 75002\n",
      "\n",
      "\n",
      "License #: 744463\n",
      "\n",
      "Complaint # COS20200008154\n",
      "Date: 6/2/2022\n",
      "\n",
      "Respondent is assessed an administrative penalty in the amount of $1,000.\n",
      "Respondent failed to clean and sanitize whirlpool foot spas as required at the end of each day; Respondent failed to follow whirlpool foot spas cleaning and sanitization procedures as required.\n",
      "-----\n",
      "NGUYEN, THANH\n",
      "City: FRISCO\n",
      "County: COLLIN\n",
      "Zip Code: 75034\n",
      "\n",
      "\n",
      "License #: 790672\n",
      "\n",
      "Complaint # COS20200007790\n",
      "Date: 5/2/2022\n",
      "\n",
      "Respondent is assessed an administrative penalty in the amount of $2,625.\n",
      "Respondent failed to follow whirlpool foot spas cleaning and sanitization procedures as required bi-weekly, the Department is charging 11 violations; Respondent failed to clean, disinfect, and sterilize manicure and pedicure implements after each use.\n",
      "-----\n",
      "NGUYEN, NAM QUANG\n",
      "City: HARKER HEIGHTS\n",
      "County: BELL\n",
      "Zip Code: 76548\n",
      "\n",
      "\n",
      "License #: 745552\n",
      "\n",
      "Complaint # COS20210010525\n",
      "Date: 4/27/2022\n",
      "\n",
      "Respondent is assessed an administrative penalty in the amount of $2,000.\n",
      "Respondent failed to keep a record of the date and time of each foot spa daily or bi-weekly cleaning and if the foot spa was not used, the Department is charging 5 violations; Respondent failed to clean and disinfect all wax pots; Respondent failed to clean, disinfect, and sterilize manicure and pedicure implements after each use.\n",
      "-----\n",
      "NGUYEN, JAY TRI\n",
      "City: SAN ANTONIO\n",
      "County: BEXAR\n",
      "Zip Code: 78266\n",
      "\n",
      "\n",
      "License #: 735165\n",
      "\n",
      "Complaint # COS20210015763\n",
      "Date: 4/27/2022\n",
      "\n",
      "Respondent is assessed an administrative penalty in the amount of $375.\n",
      "Respondent failed to clean, disinfect, and sterilize metal instruments with a Department-approved sterilizer in accordance with the sterilizer or sanitizers manufacturer's instructions.\n",
      "-----\n"
     ]
    }
   ],
   "source": [
    "for row in rows[:10]:\n",
    "    items = row.find_elements(By.TAG_NAME, 'td')\n",
    "    for item in items:\n",
    "        print(item.text)\n",
    "    print(\"-----\")"
   ]
  },
  {
   "cell_type": "markdown",
   "metadata": {},
   "source": [
    "The result should look something like this:\n",
    "\n",
    "```\n",
    "Name and Location Order Basis for Order\n",
    "NGUYEN, THANH\n",
    "City: FRISCO\n",
    "County: COLLIN\n",
    "Zip Code: 75034\n",
    "\n",
    "\n",
    "License #: 790672\n",
    "\n",
    "Complaint # COS20210004784 Date: 11/16/2021\n",
    "\n",
    "Respondent is assessed an administrative penalty in the amount of $1,875. Respondent failed to clean and sanitize whirlpool foot spas as required at the end of each day, the Department is charging 2 violations; Respondent operated a cosmetology salon without the appropriate license.\n",
    "NGUYEN, LONG D\n",
    "City: SAN SABA\n",
    "County: SAN SABA\n",
    "Zip Code: 76877\n",
    "```"
   ]
  },
  {
   "cell_type": "markdown",
   "metadata": {},
   "source": [
    "### Loop through each result and print each person's name\n",
    "\n",
    "You'll get an error because the first one doesn't have a name. How do you make that not happen?! If you want to ignore an error, you use code like this:\n",
    "\n",
    "```python\n",
    "try:\n",
    "   # try to do something\n",
    "except:\n",
    "   print(\"It didn't work')\n",
    "```\n",
    "\n",
    "It should help you out. If you don't want to print anything when there's an error, you can type `pass` instead of the `print` statement.\n",
    "\n",
    "**Why doesn't the first one have a name?**\n",
    "\n",
    "Output should look like this:\n",
    "\n",
    "```\n",
    "Doesn't have a name\n",
    "NGUYEN, THANH\n",
    "NGUYEN, LONG D\n",
    "NGUYEN, LUCIE HUONG\n",
    "NGUYEN, CHINH\n",
    "NGUYEN, JIMMY\n",
    "```\n",
    "\n",
    "* *Tip: The name has a class you can use. The class name is reused in a lot of places, but because it's the first one you don't have to worry about that!*\n",
    "* *Tip: Instead of searching across the entire page – `driver.find_element` or `doc.select_one` – you should be doing your searching just inside of each **row** (I used this technique in the beginning of class with BeautifulSoup when we were scraping the books page)* "
   ]
  },
  {
   "cell_type": "code",
   "execution_count": 30,
   "metadata": {},
   "outputs": [
    {
     "name": "stdout",
     "output_type": "stream",
     "text": [
      "No Name\n",
      "-----\n",
      "NGUYEN, MAI T\n",
      "-----\n",
      "NGUYEN, HUNG VU\n",
      "-----\n",
      "NGUYEN, MINH HIEN LUONG\n",
      "-----\n",
      "NGUYEN, PHUONG T\n",
      "-----\n",
      "NGUYEN, STEVEN MANH\n",
      "-----\n",
      "NGUYEN, LANG THU\n",
      "-----\n",
      "NGUYEN, THANH\n",
      "-----\n",
      "NGUYEN, NAM QUANG\n",
      "-----\n",
      "NGUYEN, JAY TRI\n",
      "-----\n"
     ]
    }
   ],
   "source": [
    "for row in rows[:10]:\n",
    "    try:\n",
    "        name = row.find_element(By.CLASS_NAME, 'results_text')\n",
    "        print(name.text)\n",
    "    except:\n",
    "        print(\"No Name\")\n",
    "    print(\"-----\")"
   ]
  },
  {
   "cell_type": "markdown",
   "metadata": {},
   "source": [
    "## Loop through each result, printing each violation description (\"Basis for order\")\n",
    "\n",
    "Your results should look something like:\n",
    "\n",
    "```\n",
    "Doesn't have a violation\n",
    "Respondent failed to clean and sanitize whirlpool foot spas as required at the end of each day, the Department is charging 2 violations; Respondent operated a cosmetology salon without the appropriate license.\n",
    "Respondent failed to keep a record of the date and time of each foot spa daily or bi-weekly cleaning and if the foot spa was not used, the Department is charging 2 violations; Respondent failed to clean, disinfect, and sterilize manicure and pedicure implements after each use; Respondent failed to clean and disinfect manicure tables prior to use for each client.\n",
    "...\n",
    "```\n",
    "\n",
    "> - *Tip: You'll get an error even if you're ALMOST right - which row is causing the problem?*\n",
    "> - *Tip: If you're using Selenium by itself, you can get the HTML of something by doing `.get_attribute('innerHTML')` – that way it'll look like BeautifulSoup when you print it. It might help you diagnose your issue!*\n",
    "> - *Tip: Or I guess you could just skip the one with the problem...*"
   ]
  },
  {
   "cell_type": "code",
   "execution_count": 33,
   "metadata": {},
   "outputs": [
    {
     "name": "stdout",
     "output_type": "stream",
     "text": [
      "Not a violation\n",
      "-----\n",
      "Respondent failed to clean, disinfect, and sterilize metal instruments with a Department-approved sterilizer in accordance with the sterilizer or sanitizers manufacturer's instructions; Respondent failed to keep a record of the date and time of each foot spa daily or bi-weekly cleaning and if the foot spa was not used, the Department is charging 3 violations; Respondent failed to follow whirlpool foot spas cleaning and sanitization procedures as required, the Department is charging 3 violations; Respondent failed to clean and disinfect all wax pots; Respondent failed to clean diamond, carbide, natural and metal bits after each use with a brush or ultrasonic cleaner, or by immersing in acetone.\n",
      "-----\n",
      "Respondent failed to keep floors, walls, ceilings, shelves, furniture, furnishings, and fixtures clean and in good repair; Respondent failed to clean and disinfect multiple use implements after each customer; Respondent failed to keep a record of the date and time of each foot spa daily or bi-weekly cleaning and if the foot spa was not used, the Department is charging 2 violations; Respondent failed to clean, disinfect, and sterilize manicure and pedicure implements after each use, the Department is charging 2 violations; Respondent failed to disinfect tools, implements, and supplies with an EPA-registered disinfectant solution; Respondent failed to keep all products properly labeled in compliance with OSHA requirements.\n",
      "-----\n",
      "Respondent failed to clean and sanitize whirlpool foot spas as required at the end of each day.\n",
      "-----\n",
      "Respondent failed to keep a record of the date and time of each foot spa daily or bi-weekly cleaning and if the foot spa was not used, the Department is charging 9 violations; Respondent failed to clean and disinfect all wax pots; Respondent failed to utilize clean and disinfected implements; Respondent failed to clean and disinfect manicure tables prior to use for each client; Respondent failed to discard buffer blocks and porous nail files when exposed to a client's broken skin and/or unhealthy nails.\n",
      "-----\n",
      "Respondent leased space in a salon to an individual who engaged in the practice of cosmetology but had not obtained a cosmetology license.\n",
      "-----\n",
      "Respondent failed to clean and sanitize whirlpool foot spas as required at the end of each day; Respondent failed to follow whirlpool foot spas cleaning and sanitization procedures as required.\n",
      "-----\n",
      "Respondent failed to follow whirlpool foot spas cleaning and sanitization procedures as required bi-weekly, the Department is charging 11 violations; Respondent failed to clean, disinfect, and sterilize manicure and pedicure implements after each use.\n",
      "-----\n",
      "Respondent failed to keep a record of the date and time of each foot spa daily or bi-weekly cleaning and if the foot spa was not used, the Department is charging 5 violations; Respondent failed to clean and disinfect all wax pots; Respondent failed to clean, disinfect, and sterilize manicure and pedicure implements after each use.\n",
      "-----\n",
      "Respondent failed to clean, disinfect, and sterilize metal instruments with a Department-approved sterilizer in accordance with the sterilizer or sanitizers manufacturer's instructions.\n",
      "-----\n"
     ]
    }
   ],
   "source": [
    "for row in rows[:10]:\n",
    "    try:\n",
    "        violation = row.find_elements(By.TAG_NAME, 'td')[-1]\n",
    "        print(violation.text)\n",
    "    except:\n",
    "        print(\"Not a violation\")\n",
    "    print(\"-----\")"
   ]
  },
  {
   "cell_type": "markdown",
   "metadata": {},
   "source": [
    "## Loop through each result, printing the complaint number\n",
    "\n",
    "Output should look like this:\n",
    "\n",
    "```\n",
    "Doesn't have a complaint number\n",
    "COS20210004784\n",
    "COS20210009745\n",
    "COS20210011484\n",
    "...\n",
    "```\n",
    "\n",
    "- *Tip: Think about the order of the elements. Can you count from the opposite direction than you normally do?*"
   ]
  },
  {
   "cell_type": "code",
   "execution_count": 39,
   "metadata": {},
   "outputs": [
    {
     "name": "stdout",
     "output_type": "stream",
     "text": [
      "Doesn't Have A Complaint #\n",
      "-----\n",
      "COS20220000853\n",
      "-----\n",
      "COS20200013887\n",
      "-----\n",
      "COS20210010437\n",
      "-----\n",
      "COS20210014779\n",
      "-----\n",
      "COS20200015190\n",
      "-----\n",
      "COS20200008154\n",
      "-----\n",
      "COS20200007790\n",
      "-----\n",
      "COS20210010525\n",
      "-----\n",
      "COS20210015763\n",
      "-----\n"
     ]
    }
   ],
   "source": [
    "for row in rows[:10]:\n",
    "    try:\n",
    "        complaint_no = row.find_elements(By.CLASS_NAME, 'results_text')[-2]\n",
    "        print(complaint_no.text)\n",
    "    except:\n",
    "        print(\"Doesn't Have A Complaint #\")\n",
    "    print(\"-----\")"
   ]
  },
  {
   "cell_type": "markdown",
   "metadata": {},
   "source": [
    "## Saving the results\n",
    "\n",
    "### Loop through each result to create a list of dictionaries\n",
    "\n",
    "Each dictionary must contain\n",
    "\n",
    "- Person's name\n",
    "- Violation description\n",
    "- Violation number\n",
    "- License Numbers\n",
    "- Zip Code\n",
    "- County\n",
    "- City\n",
    "\n",
    "Create a new dictionary for each result (except the header).\n",
    "\n",
    "Based on what you print out, the output might look something like:\n",
    "\n",
    "```\n",
    "This row is broken: Name and Location Order Basis for Order\n",
    "{'name': 'NGUYEN, THANH', 'city': 'FRISCO', 'county': 'COLLIN', 'zip_code': '75034', 'complaint_no': 'COS20210004784', 'license_numbers': '790672', 'complaint': 'Respondent failed to clean and sanitize whirlpool foot spas as required at the end of each day, the Department is charging 2 violations; Respondent operated a cosmetology salon without the appropriate license.'}\n",
    "{'name': 'NGUYEN, LONG D', 'city': 'SAN SABA', 'county': 'SAN SABA', 'zip_code': '76877', 'complaint_no': 'COS20210009745', 'license_numbers': '760420, 1620583', 'complaint': 'Respondent failed to keep a record of the date and time of each foot spa daily or bi-weekly cleaning and if the foot spa was not used, the Department is charging 2 violations; Respondent failed to clean, disinfect, and sterilize manicure and pedicure implements after each use; Respondent failed to clean and disinfect manicure tables prior to use for each client.'}\n",
    "```\n",
    "\n",
    "> *Tip: If you want to ask for the \"next sibling,\" you can't use `find_next_sibling` in Selenium, you need to use `element.find_element_by_xpath(\"following-sibling::div\")` to find the next div, or `element.find_element_by_xpath(\"following-sibling::*\")` to find the next anything."
   ]
  },
  {
   "cell_type": "code",
   "execution_count": 132,
   "metadata": {},
   "outputs": [
    {
     "data": {
      "text/plain": [
       "[{'name': '7/7/2022',\n",
       "  'city': 'AUSTIN',\n",
       "  'county': 'TRAVIS',\n",
       "  'zip_code': '78717',\n",
       "  'complaint_no': '750076',\n",
       "  'license_numbers': 'COS20220000853',\n",
       "  'complaint': \"Respondent failed to clean, disinfect, and sterilize metal instruments with a Department-approved sterilizer in accordance with the sterilizer or sanitizers manufacturer's instructions; Respondent failed to keep a record of the date and time of each foot spa daily or bi-weekly cleaning and if the foot spa was not used, the Department is charging 3 violations; Respondent failed to follow whirlpool foot spas cleaning and sanitization procedures as required, the Department is charging 3 violations; Respondent failed to clean and disinfect all wax pots; Respondent failed to clean diamond, carbide, natural and metal bits after each use with a brush or ultrasonic cleaner, or by immersing in acetone.\"},\n",
       " {'name': '7/6/2022',\n",
       "  'city': 'HOUSTON',\n",
       "  'county': 'HARRIS',\n",
       "  'zip_code': '77086',\n",
       "  'complaint_no': '763912',\n",
       "  'license_numbers': 'COS20200013887',\n",
       "  'complaint': 'Respondent failed to keep floors, walls, ceilings, shelves, furniture, furnishings, and fixtures clean and in good repair; Respondent failed to clean and disinfect multiple use implements after each customer; Respondent failed to keep a record of the date and time of each foot spa daily or bi-weekly cleaning and if the foot spa was not used, the Department is charging 2 violations; Respondent failed to clean, disinfect, and sterilize manicure and pedicure implements after each use, the Department is charging 2 violations; Respondent failed to disinfect tools, implements, and supplies with an EPA-registered disinfectant solution; Respondent failed to keep all products properly labeled in compliance with OSHA requirements.'},\n",
       " {'name': '6/27/2022',\n",
       "  'city': 'CARROLLTON',\n",
       "  'county': 'DALLAS',\n",
       "  'zip_code': '75007',\n",
       "  'complaint_no': '777932',\n",
       "  'license_numbers': 'COS20210010437',\n",
       "  'complaint': 'Respondent failed to clean and sanitize whirlpool foot spas as required at the end of each day.'},\n",
       " {'name': '6/16/2022',\n",
       "  'city': 'PLANO',\n",
       "  'county': 'COLLIN',\n",
       "  'zip_code': '75023',\n",
       "  'complaint_no': '766293',\n",
       "  'license_numbers': 'COS20210014779',\n",
       "  'complaint': \"Respondent failed to keep a record of the date and time of each foot spa daily or bi-weekly cleaning and if the foot spa was not used, the Department is charging 9 violations; Respondent failed to clean and disinfect all wax pots; Respondent failed to utilize clean and disinfected implements; Respondent failed to clean and disinfect manicure tables prior to use for each client; Respondent failed to discard buffer blocks and porous nail files when exposed to a client's broken skin and/or unhealthy nails.\"},\n",
       " {'name': '6/9/2022',\n",
       "  'city': 'FORT WORTH',\n",
       "  'county': 'TARRANT',\n",
       "  'zip_code': '76244',\n",
       "  'complaint_no': '773318',\n",
       "  'license_numbers': 'COS20200015190',\n",
       "  'complaint': 'Respondent leased space in a salon to an individual who engaged in the practice of cosmetology but had not obtained a cosmetology license.'},\n",
       " {'name': '6/2/2022',\n",
       "  'city': 'ALLEN',\n",
       "  'county': 'COLLIN',\n",
       "  'zip_code': '75002',\n",
       "  'complaint_no': '744463',\n",
       "  'license_numbers': 'COS20200008154',\n",
       "  'complaint': 'Respondent failed to clean and sanitize whirlpool foot spas as required at the end of each day; Respondent failed to follow whirlpool foot spas cleaning and sanitization procedures as required.'},\n",
       " {'name': '5/2/2022',\n",
       "  'city': 'FRISCO',\n",
       "  'county': 'COLLIN',\n",
       "  'zip_code': '75034',\n",
       "  'complaint_no': '790672',\n",
       "  'license_numbers': 'COS20200007790',\n",
       "  'complaint': 'Respondent failed to follow whirlpool foot spas cleaning and sanitization procedures as required bi-weekly, the Department is charging 11 violations; Respondent failed to clean, disinfect, and sterilize manicure and pedicure implements after each use.'},\n",
       " {'name': '4/27/2022',\n",
       "  'city': 'HARKER HEIGHTS',\n",
       "  'county': 'BELL',\n",
       "  'zip_code': '76548',\n",
       "  'complaint_no': '745552',\n",
       "  'license_numbers': 'COS20210010525',\n",
       "  'complaint': 'Respondent failed to keep a record of the date and time of each foot spa daily or bi-weekly cleaning and if the foot spa was not used, the Department is charging 5 violations; Respondent failed to clean and disinfect all wax pots; Respondent failed to clean, disinfect, and sterilize manicure and pedicure implements after each use.'},\n",
       " {'name': '4/27/2022',\n",
       "  'city': 'SAN ANTONIO',\n",
       "  'county': 'BEXAR',\n",
       "  'zip_code': '78266',\n",
       "  'complaint_no': '735165',\n",
       "  'license_numbers': 'COS20210015763',\n",
       "  'complaint': \"Respondent failed to clean, disinfect, and sterilize metal instruments with a Department-approved sterilizer in accordance with the sterilizer or sanitizers manufacturer's instructions.\"}]"
      ]
     },
     "execution_count": 132,
     "metadata": {},
     "output_type": "execute_result"
    }
   ],
   "source": [
    "violators = []\n",
    "for row in rows[:10]:\n",
    "    try:\n",
    "        record = {}\n",
    "        items = row.find_elements(By.TAG_NAME, 'td')\n",
    "        complaint = items[-1].text\n",
    "        for item in items:\n",
    "            section = item.find_elements(By.CLASS_NAME, 'results_text')\n",
    "            record['name'] = section[0].text\n",
    "            record['city'] = section[1].text\n",
    "            record['county'] = section[2].text\n",
    "            record['zip_code'] = section[3].text\n",
    "            record['complaint_no'] = section[4].text\n",
    "            record['license_numbers'] = section[5].text\n",
    "            record['complaint'] = complaint\n",
    "            violators.append(record)\n",
    "    except:\n",
    "        continue"
   ]
  },
  {
   "cell_type": "markdown",
   "metadata": {},
   "source": [
    "### Save that to a CSV named `output.csv`\n",
    "\n",
    "The dataframe should look something like...\n",
    "\n",
    "|index|name|city|county|zip_code|complaint_no|license_numbers|complaint|\n",
    "|---|---|---|---|---|---|---|---|\n",
    "|0|NGUYEN, THANH|FRISCO|COLLIN|75034|COS20210004784|790672|Respondent failed to clean and sanitize whirlp...|\n",
    "|1|NGUYEN, LONG D|SAN SABA|SAN SABA|76877|COS20210009745|760420, 1620583|Respondent failed to keep a record of the date...|\n",
    "\n",
    "\n",
    "- *Tip: If you send a list of dictionaries to `pd.DataFrame(...)`, it will create a dataframe out of that list!*"
   ]
  },
  {
   "cell_type": "code",
   "execution_count": 106,
   "metadata": {},
   "outputs": [
    {
     "data": {
      "text/html": [
       "<div>\n",
       "<style scoped>\n",
       "    .dataframe tbody tr th:only-of-type {\n",
       "        vertical-align: middle;\n",
       "    }\n",
       "\n",
       "    .dataframe tbody tr th {\n",
       "        vertical-align: top;\n",
       "    }\n",
       "\n",
       "    .dataframe thead th {\n",
       "        text-align: right;\n",
       "    }\n",
       "</style>\n",
       "<table border=\"1\" class=\"dataframe\">\n",
       "  <thead>\n",
       "    <tr style=\"text-align: right;\">\n",
       "      <th></th>\n",
       "      <th>name</th>\n",
       "      <th>city</th>\n",
       "      <th>county</th>\n",
       "      <th>zip_code</th>\n",
       "      <th>complaint_no</th>\n",
       "      <th>license_numbers</th>\n",
       "      <th>complaint</th>\n",
       "    </tr>\n",
       "  </thead>\n",
       "  <tbody>\n",
       "    <tr>\n",
       "      <th>0</th>\n",
       "      <td>7/7/2022</td>\n",
       "      <td>AUSTIN</td>\n",
       "      <td>TRAVIS</td>\n",
       "      <td>78717</td>\n",
       "      <td>750076</td>\n",
       "      <td>COS20220000853</td>\n",
       "      <td>Respondent failed to clean, disinfect, and ste...</td>\n",
       "    </tr>\n",
       "    <tr>\n",
       "      <th>1</th>\n",
       "      <td>7/6/2022</td>\n",
       "      <td>HOUSTON</td>\n",
       "      <td>HARRIS</td>\n",
       "      <td>77086</td>\n",
       "      <td>763912</td>\n",
       "      <td>COS20200013887</td>\n",
       "      <td>Respondent failed to keep floors, walls, ceili...</td>\n",
       "    </tr>\n",
       "    <tr>\n",
       "      <th>2</th>\n",
       "      <td>6/27/2022</td>\n",
       "      <td>CARROLLTON</td>\n",
       "      <td>DALLAS</td>\n",
       "      <td>75007</td>\n",
       "      <td>777932</td>\n",
       "      <td>COS20210010437</td>\n",
       "      <td>Respondent failed to clean and sanitize whirlp...</td>\n",
       "    </tr>\n",
       "    <tr>\n",
       "      <th>3</th>\n",
       "      <td>6/16/2022</td>\n",
       "      <td>PLANO</td>\n",
       "      <td>COLLIN</td>\n",
       "      <td>75023</td>\n",
       "      <td>766293</td>\n",
       "      <td>COS20210014779</td>\n",
       "      <td>Respondent failed to keep a record of the date...</td>\n",
       "    </tr>\n",
       "    <tr>\n",
       "      <th>4</th>\n",
       "      <td>6/9/2022</td>\n",
       "      <td>FORT WORTH</td>\n",
       "      <td>TARRANT</td>\n",
       "      <td>76244</td>\n",
       "      <td>773318</td>\n",
       "      <td>COS20200015190</td>\n",
       "      <td>Respondent leased space in a salon to an indiv...</td>\n",
       "    </tr>\n",
       "    <tr>\n",
       "      <th>5</th>\n",
       "      <td>6/2/2022</td>\n",
       "      <td>ALLEN</td>\n",
       "      <td>COLLIN</td>\n",
       "      <td>75002</td>\n",
       "      <td>744463</td>\n",
       "      <td>COS20200008154</td>\n",
       "      <td>Respondent failed to clean and sanitize whirlp...</td>\n",
       "    </tr>\n",
       "    <tr>\n",
       "      <th>6</th>\n",
       "      <td>5/2/2022</td>\n",
       "      <td>FRISCO</td>\n",
       "      <td>COLLIN</td>\n",
       "      <td>75034</td>\n",
       "      <td>790672</td>\n",
       "      <td>COS20200007790</td>\n",
       "      <td>Respondent failed to follow whirlpool foot spa...</td>\n",
       "    </tr>\n",
       "    <tr>\n",
       "      <th>7</th>\n",
       "      <td>4/27/2022</td>\n",
       "      <td>HARKER HEIGHTS</td>\n",
       "      <td>BELL</td>\n",
       "      <td>76548</td>\n",
       "      <td>745552</td>\n",
       "      <td>COS20210010525</td>\n",
       "      <td>Respondent failed to keep a record of the date...</td>\n",
       "    </tr>\n",
       "    <tr>\n",
       "      <th>8</th>\n",
       "      <td>4/27/2022</td>\n",
       "      <td>SAN ANTONIO</td>\n",
       "      <td>BEXAR</td>\n",
       "      <td>78266</td>\n",
       "      <td>735165</td>\n",
       "      <td>COS20210015763</td>\n",
       "      <td>Respondent failed to clean, disinfect, and ste...</td>\n",
       "    </tr>\n",
       "  </tbody>\n",
       "</table>\n",
       "</div>"
      ],
      "text/plain": [
       "        name            city   county zip_code complaint_no license_numbers  \\\n",
       "0   7/7/2022          AUSTIN   TRAVIS    78717       750076  COS20220000853   \n",
       "1   7/6/2022         HOUSTON   HARRIS    77086       763912  COS20200013887   \n",
       "2  6/27/2022      CARROLLTON   DALLAS    75007       777932  COS20210010437   \n",
       "3  6/16/2022           PLANO   COLLIN    75023       766293  COS20210014779   \n",
       "4   6/9/2022      FORT WORTH  TARRANT    76244       773318  COS20200015190   \n",
       "5   6/2/2022           ALLEN   COLLIN    75002       744463  COS20200008154   \n",
       "6   5/2/2022          FRISCO   COLLIN    75034       790672  COS20200007790   \n",
       "7  4/27/2022  HARKER HEIGHTS     BELL    76548       745552  COS20210010525   \n",
       "8  4/27/2022     SAN ANTONIO    BEXAR    78266       735165  COS20210015763   \n",
       "\n",
       "                                           complaint  \n",
       "0  Respondent failed to clean, disinfect, and ste...  \n",
       "1  Respondent failed to keep floors, walls, ceili...  \n",
       "2  Respondent failed to clean and sanitize whirlp...  \n",
       "3  Respondent failed to keep a record of the date...  \n",
       "4  Respondent leased space in a salon to an indiv...  \n",
       "5  Respondent failed to clean and sanitize whirlp...  \n",
       "6  Respondent failed to follow whirlpool foot spa...  \n",
       "7  Respondent failed to keep a record of the date...  \n",
       "8  Respondent failed to clean, disinfect, and ste...  "
      ]
     },
     "execution_count": 106,
     "metadata": {},
     "output_type": "execute_result"
    }
   ],
   "source": [
    "import pandas as pd\n",
    "pd.DataFrame(violators)"
   ]
  },
  {
   "cell_type": "code",
   "execution_count": null,
   "metadata": {},
   "outputs": [],
   "source": []
  },
  {
   "cell_type": "markdown",
   "metadata": {},
   "source": [
    "### Open the CSV file and examine the first few. Make sure you didn't save an extra weird unnamed column."
   ]
  },
  {
   "cell_type": "code",
   "execution_count": null,
   "metadata": {},
   "outputs": [],
   "source": []
  }
 ],
 "metadata": {
  "kernelspec": {
   "display_name": "Python 3 (ipykernel)",
   "language": "python",
   "name": "python3"
  },
  "language_info": {
   "codemirror_mode": {
    "name": "ipython",
    "version": 3
   },
   "file_extension": ".py",
   "mimetype": "text/x-python",
   "name": "python",
   "nbconvert_exporter": "python",
   "pygments_lexer": "ipython3",
   "version": "3.10.3"
  }
 },
 "nbformat": 4,
 "nbformat_minor": 2
}
